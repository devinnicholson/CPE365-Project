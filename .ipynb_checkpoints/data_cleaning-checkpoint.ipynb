{
 "cells": [
  {
   "cell_type": "code",
   "execution_count": 1,
   "metadata": {
    "collapsed": false
   },
   "outputs": [
    {
     "name": "stdout",
     "output_type": "stream",
     "text": [
      " Volume in drive C is Windows\n",
      " Volume Serial Number is 5CBD-F8F3\n",
      "\n",
      " Directory of C:\\Users\\Tommy\\Documents\\Jupyter Notebooks\\CPE 365\n",
      "\n",
      "12/08/2016  04:05 PM    <DIR>          .\n",
      "12/08/2016  04:05 PM    <DIR>          ..\n",
      "12/08/2016  04:04 PM    <DIR>          .ipynb_checkpoints\n",
      "12/07/2016  05:46 PM    <DIR>          data\n",
      "12/08/2016  04:04 PM                72 Untitled.ipynb\n",
      "               1 File(s)             72 bytes\n",
      "               4 Dir(s)  448,966,406,144 bytes free\n"
     ]
    }
   ],
   "source": [
    "%ls"
   ]
  },
  {
   "cell_type": "code",
   "execution_count": 7,
   "metadata": {
    "collapsed": false
   },
   "outputs": [
    {
     "name": "stdout",
     "output_type": "stream",
     "text": [
      " Volume in drive C is Windows\n",
      " Volume Serial Number is 5CBD-F8F3\n",
      "\n",
      " Directory of C:\\Users\\Tommy\\Documents\\Jupyter Notebooks\\CPE 365\\data\n",
      "\n",
      "12/08/2016  04:07 PM    <DIR>          .\n",
      "12/08/2016  04:07 PM    <DIR>          ..\n",
      "12/07/2016  05:43 PM        11,130,825 attainment.csv\n",
      "12/07/2016  05:43 PM            19,750 expenditure.csv\n",
      "12/07/2016  05:43 PM            32,241 school_and_country_table.csv\n",
      "12/07/2016  05:43 PM           268,231 timesData.csv\n",
      "               4 File(s)     11,451,047 bytes\n",
      "               2 Dir(s)  448,969,515,008 bytes free\n"
     ]
    }
   ],
   "source": [
    "%ls data "
   ]
  },
  {
   "cell_type": "code",
   "execution_count": 2,
   "metadata": {
    "collapsed": true
   },
   "outputs": [],
   "source": [
    "import pandas as pd"
   ]
  },
  {
   "cell_type": "code",
   "execution_count": 14,
   "metadata": {
    "collapsed": true
   },
   "outputs": [],
   "source": [
    "?pd.read_csv"
   ]
  },
  {
   "cell_type": "code",
   "execution_count": 167,
   "metadata": {
    "collapsed": false
   },
   "outputs": [],
   "source": [
    "data = pd.read_csv('data/expenditure_orig.csv', engine='python')"
   ]
  },
  {
   "cell_type": "code",
   "execution_count": 49,
   "metadata": {
    "collapsed": false
   },
   "outputs": [
    {
     "data": {
      "text/html": [
       "<div>\n",
       "<table border=\"1\" class=\"dataframe\">\n",
       "  <thead>\n",
       "    <tr style=\"text-align: right;\">\n",
       "      <th></th>\n",
       "      <th>country</th>\n",
       "      <th>institute_type</th>\n",
       "      <th>direct_expenditure_type</th>\n",
       "      <th>1995</th>\n",
       "      <th>2000</th>\n",
       "      <th>2005</th>\n",
       "      <th>2009</th>\n",
       "      <th>2010</th>\n",
       "      <th>2011</th>\n",
       "    </tr>\n",
       "  </thead>\n",
       "  <tbody>\n",
       "    <tr>\n",
       "      <th>0</th>\n",
       "      <td>OECD Average</td>\n",
       "      <td>All Institutions</td>\n",
       "      <td>Public</td>\n",
       "      <td>4.9</td>\n",
       "      <td>4.9</td>\n",
       "      <td>5.0</td>\n",
       "      <td>5.4</td>\n",
       "      <td>5.4</td>\n",
       "      <td>5.3</td>\n",
       "    </tr>\n",
       "    <tr>\n",
       "      <th>1</th>\n",
       "      <td>Australia</td>\n",
       "      <td>All Institutions</td>\n",
       "      <td>Public</td>\n",
       "      <td>4.5</td>\n",
       "      <td>4.6</td>\n",
       "      <td>4.3</td>\n",
       "      <td>4.5</td>\n",
       "      <td>4.6</td>\n",
       "      <td>4.3</td>\n",
       "    </tr>\n",
       "    <tr>\n",
       "      <th>2</th>\n",
       "      <td>Austria</td>\n",
       "      <td>All Institutions</td>\n",
       "      <td>Public</td>\n",
       "      <td>5.3</td>\n",
       "      <td>5.4</td>\n",
       "      <td>5.2</td>\n",
       "      <td>5.7</td>\n",
       "      <td>5.6</td>\n",
       "      <td>5.5</td>\n",
       "    </tr>\n",
       "    <tr>\n",
       "      <th>3</th>\n",
       "      <td>Belgium</td>\n",
       "      <td>All Institutions</td>\n",
       "      <td>Public</td>\n",
       "      <td>5.0</td>\n",
       "      <td>5.1</td>\n",
       "      <td>5.8</td>\n",
       "      <td>6.4</td>\n",
       "      <td>6.4</td>\n",
       "      <td>6.4</td>\n",
       "    </tr>\n",
       "    <tr>\n",
       "      <th>4</th>\n",
       "      <td>Canada</td>\n",
       "      <td>All Institutions</td>\n",
       "      <td>Public</td>\n",
       "      <td>5.8</td>\n",
       "      <td>5.2</td>\n",
       "      <td>4.8</td>\n",
       "      <td>5.0</td>\n",
       "      <td>5.2</td>\n",
       "      <td>NaN</td>\n",
       "    </tr>\n",
       "  </tbody>\n",
       "</table>\n",
       "</div>"
      ],
      "text/plain": [
       "        country     institute_type direct_expenditure_type  1995  2000  2005  \\\n",
       "0  OECD Average  All Institutions                   Public   4.9   4.9   5.0   \n",
       "1     Australia  All Institutions                   Public   4.5   4.6   4.3   \n",
       "2       Austria  All Institutions                   Public   5.3   5.4   5.2   \n",
       "3       Belgium  All Institutions                   Public   5.0   5.1   5.8   \n",
       "4        Canada  All Institutions                   Public   5.8   5.2   4.8   \n",
       "\n",
       "   2009  2010  2011  \n",
       "0   5.4   5.4   5.3  \n",
       "1   4.5   4.6   4.3  \n",
       "2   5.7   5.6   5.5  \n",
       "3   6.4   6.4   6.4  \n",
       "4   5.0   5.2   NaN  "
      ]
     },
     "execution_count": 49,
     "metadata": {},
     "output_type": "execute_result"
    }
   ],
   "source": [
    "data.head()"
   ]
  },
  {
   "cell_type": "code",
   "execution_count": 50,
   "metadata": {
    "collapsed": false
   },
   "outputs": [
    {
     "data": {
      "text/plain": [
       "array(['All Institutions ', 'Elementary and Secondary Institutions ',\n",
       "       'Higher Education Institutions '], dtype=object)"
      ]
     },
     "execution_count": 50,
     "metadata": {},
     "output_type": "execute_result"
    }
   ],
   "source": [
    "data['institute_type'].unique()"
   ]
  },
  {
   "cell_type": "code",
   "execution_count": 51,
   "metadata": {
    "collapsed": false
   },
   "outputs": [
    {
     "data": {
      "text/plain": [
       "array(['Public', 'Private', 'Total'], dtype=object)"
      ]
     },
     "execution_count": 51,
     "metadata": {},
     "output_type": "execute_result"
    }
   ],
   "source": [
    "data['direct_expenditure_type'].unique()"
   ]
  },
  {
   "cell_type": "code",
   "execution_count": 168,
   "metadata": {
    "collapsed": true
   },
   "outputs": [],
   "source": [
    "data = data[data['institute_type']=='Higher Education Institutions ']\n",
    "data = data[data['country']!='OECD Average']"
   ]
  },
  {
   "cell_type": "code",
   "execution_count": 178,
   "metadata": {
    "collapsed": false
   },
   "outputs": [],
   "source": [
    "for i in data.index:\n",
    "    data.loc[i, 'country'] = str(data.loc[i, 'country']).strip()"
   ]
  },
  {
   "cell_type": "code",
   "execution_count": 169,
   "metadata": {
    "collapsed": false
   },
   "outputs": [],
   "source": [
    "data = data[['country', 'direct_expenditure_type', '2011']]"
   ]
  },
  {
   "cell_type": "code",
   "execution_count": 170,
   "metadata": {
    "collapsed": false
   },
   "outputs": [],
   "source": [
    "data=data.rename(columns = {'direct_expenditure_type':'type', '2011' : 'expenditure'})"
   ]
  },
  {
   "cell_type": "code",
   "execution_count": 180,
   "metadata": {
    "collapsed": false
   },
   "outputs": [],
   "source": [
    "data.to_csv('data/expenditure.csv', index=False)"
   ]
  },
  {
   "cell_type": "code",
   "execution_count": 5,
   "metadata": {
    "collapsed": false
   },
   "outputs": [
    {
     "name": "stdout",
     "output_type": "stream",
     "text": [
      " Volume in drive C is Windows\n",
      " Volume Serial Number is 5CBD-F8F3\n",
      "\n",
      " Directory of C:\\Users\\Tommy\\Documents\\Jupyter Notebooks\\CPE 365\\data\n",
      "\n",
      "12/08/2016  04:27 PM    <DIR>          .\n",
      "12/08/2016  04:27 PM    <DIR>          ..\n",
      "12/07/2016  05:43 PM        11,130,825 attainment_orig.csv\n",
      "12/08/2016  04:26 PM             3,752 expenditure.csv\n",
      "12/07/2016  05:43 PM            19,750 expenditure_orig.csv\n",
      "12/07/2016  05:43 PM            32,241 school_and_country_table.csv\n",
      "12/07/2016  05:43 PM           268,231 timesData.csv\n",
      "               5 File(s)     11,454,799 bytes\n",
      "               2 Dir(s)  448,935,952,384 bytes free\n"
     ]
    }
   ],
   "source": [
    "%ls data"
   ]
  },
  {
   "cell_type": "code",
   "execution_count": 145,
   "metadata": {
    "collapsed": false
   },
   "outputs": [],
   "source": [
    "data = pd.read_csv('data/attainment_orig.csv', engine='python')"
   ]
  },
  {
   "cell_type": "code",
   "execution_count": 7,
   "metadata": {
    "collapsed": false,
    "scrolled": false
   },
   "outputs": [
    {
     "data": {
      "text/html": [
       "<div>\n",
       "<table border=\"1\" class=\"dataframe\">\n",
       "  <thead>\n",
       "    <tr style=\"text-align: right;\">\n",
       "      <th></th>\n",
       "      <th>country_name</th>\n",
       "      <th>series_name</th>\n",
       "      <th>1985</th>\n",
       "      <th>1986</th>\n",
       "      <th>1987</th>\n",
       "      <th>1990</th>\n",
       "      <th>1991</th>\n",
       "      <th>1992</th>\n",
       "      <th>1993</th>\n",
       "      <th>1995</th>\n",
       "      <th>...</th>\n",
       "      <th>2005</th>\n",
       "      <th>2006</th>\n",
       "      <th>2007</th>\n",
       "      <th>2008</th>\n",
       "      <th>2009</th>\n",
       "      <th>2010</th>\n",
       "      <th>2011</th>\n",
       "      <th>2012</th>\n",
       "      <th>2013</th>\n",
       "      <th>2015</th>\n",
       "    </tr>\n",
       "  </thead>\n",
       "  <tbody>\n",
       "    <tr>\n",
       "      <th>0</th>\n",
       "      <td>Afghanistan</td>\n",
       "      <td>Barro-Lee: Average years of primary schooling,...</td>\n",
       "      <td>0.33</td>\n",
       "      <td>NaN</td>\n",
       "      <td>NaN</td>\n",
       "      <td>0.44</td>\n",
       "      <td>NaN</td>\n",
       "      <td>NaN</td>\n",
       "      <td>NaN</td>\n",
       "      <td>0.57</td>\n",
       "      <td>...</td>\n",
       "      <td>0.86</td>\n",
       "      <td>NaN</td>\n",
       "      <td>NaN</td>\n",
       "      <td>NaN</td>\n",
       "      <td>NaN</td>\n",
       "      <td>1.27</td>\n",
       "      <td>NaN</td>\n",
       "      <td>NaN</td>\n",
       "      <td>NaN</td>\n",
       "      <td>NaN</td>\n",
       "    </tr>\n",
       "    <tr>\n",
       "      <th>1</th>\n",
       "      <td>Afghanistan</td>\n",
       "      <td>Barro-Lee: Average years of primary schooling,...</td>\n",
       "      <td>1.03</td>\n",
       "      <td>NaN</td>\n",
       "      <td>NaN</td>\n",
       "      <td>1.26</td>\n",
       "      <td>NaN</td>\n",
       "      <td>NaN</td>\n",
       "      <td>NaN</td>\n",
       "      <td>1.54</td>\n",
       "      <td>...</td>\n",
       "      <td>2.18</td>\n",
       "      <td>NaN</td>\n",
       "      <td>NaN</td>\n",
       "      <td>NaN</td>\n",
       "      <td>NaN</td>\n",
       "      <td>2.64</td>\n",
       "      <td>NaN</td>\n",
       "      <td>NaN</td>\n",
       "      <td>NaN</td>\n",
       "      <td>NaN</td>\n",
       "    </tr>\n",
       "    <tr>\n",
       "      <th>2</th>\n",
       "      <td>Afghanistan</td>\n",
       "      <td>Barro-Lee: Average years of primary schooling,...</td>\n",
       "      <td>0.83</td>\n",
       "      <td>NaN</td>\n",
       "      <td>NaN</td>\n",
       "      <td>0.95</td>\n",
       "      <td>NaN</td>\n",
       "      <td>NaN</td>\n",
       "      <td>NaN</td>\n",
       "      <td>1.26</td>\n",
       "      <td>...</td>\n",
       "      <td>1.01</td>\n",
       "      <td>NaN</td>\n",
       "      <td>NaN</td>\n",
       "      <td>NaN</td>\n",
       "      <td>NaN</td>\n",
       "      <td>2.45</td>\n",
       "      <td>NaN</td>\n",
       "      <td>NaN</td>\n",
       "      <td>NaN</td>\n",
       "      <td>NaN</td>\n",
       "    </tr>\n",
       "    <tr>\n",
       "      <th>3</th>\n",
       "      <td>Afghanistan</td>\n",
       "      <td>Barro-Lee: Average years of primary schooling,...</td>\n",
       "      <td>2.34</td>\n",
       "      <td>NaN</td>\n",
       "      <td>NaN</td>\n",
       "      <td>2.22</td>\n",
       "      <td>NaN</td>\n",
       "      <td>NaN</td>\n",
       "      <td>NaN</td>\n",
       "      <td>2.37</td>\n",
       "      <td>...</td>\n",
       "      <td>2.26</td>\n",
       "      <td>NaN</td>\n",
       "      <td>NaN</td>\n",
       "      <td>NaN</td>\n",
       "      <td>NaN</td>\n",
       "      <td>3.55</td>\n",
       "      <td>NaN</td>\n",
       "      <td>NaN</td>\n",
       "      <td>NaN</td>\n",
       "      <td>NaN</td>\n",
       "    </tr>\n",
       "    <tr>\n",
       "      <th>4</th>\n",
       "      <td>Afghanistan</td>\n",
       "      <td>Barro-Lee: Average years of primary schooling,...</td>\n",
       "      <td>0.54</td>\n",
       "      <td>NaN</td>\n",
       "      <td>NaN</td>\n",
       "      <td>0.92</td>\n",
       "      <td>NaN</td>\n",
       "      <td>NaN</td>\n",
       "      <td>NaN</td>\n",
       "      <td>0.94</td>\n",
       "      <td>...</td>\n",
       "      <td>2.00</td>\n",
       "      <td>NaN</td>\n",
       "      <td>NaN</td>\n",
       "      <td>NaN</td>\n",
       "      <td>NaN</td>\n",
       "      <td>1.29</td>\n",
       "      <td>NaN</td>\n",
       "      <td>NaN</td>\n",
       "      <td>NaN</td>\n",
       "      <td>NaN</td>\n",
       "    </tr>\n",
       "  </tbody>\n",
       "</table>\n",
       "<p>5 rows × 29 columns</p>\n",
       "</div>"
      ],
      "text/plain": [
       "  country_name                                        series_name  1985  1986  \\\n",
       "0  Afghanistan  Barro-Lee: Average years of primary schooling,...  0.33   NaN   \n",
       "1  Afghanistan  Barro-Lee: Average years of primary schooling,...  1.03   NaN   \n",
       "2  Afghanistan  Barro-Lee: Average years of primary schooling,...  0.83   NaN   \n",
       "3  Afghanistan  Barro-Lee: Average years of primary schooling,...  2.34   NaN   \n",
       "4  Afghanistan  Barro-Lee: Average years of primary schooling,...  0.54   NaN   \n",
       "\n",
       "   1987  1990  1991  1992  1993  1995  ...   2005  2006  2007  2008  2009  \\\n",
       "0   NaN  0.44   NaN   NaN   NaN  0.57  ...   0.86   NaN   NaN   NaN   NaN   \n",
       "1   NaN  1.26   NaN   NaN   NaN  1.54  ...   2.18   NaN   NaN   NaN   NaN   \n",
       "2   NaN  0.95   NaN   NaN   NaN  1.26  ...   1.01   NaN   NaN   NaN   NaN   \n",
       "3   NaN  2.22   NaN   NaN   NaN  2.37  ...   2.26   NaN   NaN   NaN   NaN   \n",
       "4   NaN  0.92   NaN   NaN   NaN  0.94  ...   2.00   NaN   NaN   NaN   NaN   \n",
       "\n",
       "   2010  2011  2012  2013  2015  \n",
       "0  1.27   NaN   NaN   NaN   NaN  \n",
       "1  2.64   NaN   NaN   NaN   NaN  \n",
       "2  2.45   NaN   NaN   NaN   NaN  \n",
       "3  3.55   NaN   NaN   NaN   NaN  \n",
       "4  1.29   NaN   NaN   NaN   NaN  \n",
       "\n",
       "[5 rows x 29 columns]"
      ]
     },
     "execution_count": 7,
     "metadata": {},
     "output_type": "execute_result"
    }
   ],
   "source": [
    "data.head()"
   ]
  },
  {
   "cell_type": "code",
   "execution_count": 17,
   "metadata": {
    "collapsed": false
   },
   "outputs": [
    {
     "data": {
      "text/plain": [
       "array([ \"UIS: Percentage of population age 25+ with at least a completed bachelor's or equivalent degree (ISCED 6 or higher). Gender Parity Index\"], dtype=object)"
      ]
     },
     "execution_count": 17,
     "metadata": {},
     "output_type": "execute_result"
    }
   ],
   "source": [
    "data['series_name'].unique()"
   ]
  },
  {
   "cell_type": "markdown",
   "metadata": {},
   "source": [
    "We want the following:\n",
    "       \"UIS: Percentage of population age 25+ with a completed bachelor's or equivalent degree (ISCED 6). Female\",\n",
    "       \"UIS: Percentage of population age 25+ with a completed bachelor's or equivalent degree (ISCED 6). Male\",\n",
    "       \"UIS: Percentage of population age 25+ with a completed bachelor's or equivalent degree (ISCED 6). Total\",\n",
    "       \"UIS: Percentage of population age 25+ with a completed master's or equivalent degree (ISCED 7). Female\",\n",
    "       \"UIS: Percentage of population age 25+ with a completed master's or equivalent degree (ISCED 7). Male\",\n",
    "       \"UIS: Percentage of population age 25+ with a completed master's or equivalent degree (ISCED 7). Total\",\n",
    "       'UIS: Percentage of population age 25+ with a doctoral degree or equivalent (ISCED 8). Female',\n",
    "       'UIS: Percentage of population age 25+ with a doctoral degree or equivalent (ISCED 8). Male',\n",
    "       'UIS: Percentage of population age 25+ with a doctoral degree or equivalent (ISCED 8). Total'"
   ]
  },
  {
   "cell_type": "code",
   "execution_count": 38,
   "metadata": {
    "collapsed": false
   },
   "outputs": [],
   "source": [
    "cond = [data['series_name'][i]  in [\"UIS: Percentage of population age 25+ with a completed bachelor's or equivalent degree (ISCED 6). Female\",\n",
    "       \"UIS: Percentage of population age 25+ with a completed bachelor's or equivalent degree (ISCED 6). Male\",\n",
    "       \"UIS: Percentage of population age 25+ with a completed bachelor's or equivalent degree (ISCED 6). Total\",\n",
    "       \"UIS: Percentage of population age 25+ with a completed master's or equivalent degree (ISCED 7). Female\",\n",
    "       \"UIS: Percentage of population age 25+ with a completed master's or equivalent degree (ISCED 7). Male\",\n",
    "       \"UIS: Percentage of population age 25+ with a completed master's or equivalent degree (ISCED 7). Total\",\n",
    "       \"UIS: Percentage of population age 25+ with a doctoral degree or equivalent (ISCED 8). Female\",\n",
    "       \"UIS: Percentage of population age 25+ with a doctoral degree or equivalent (ISCED 8). Male\",\n",
    "       \"UIS: Percentage of population age 25+ with a doctoral degree or equivalent (ISCED 8). Total\"] for i in range(len(data))]"
   ]
  },
  {
   "cell_type": "code",
   "execution_count": 146,
   "metadata": {
    "collapsed": false
   },
   "outputs": [],
   "source": [
    "data = data[cond][['country_name', 'series_name', '2013']]"
   ]
  },
  {
   "cell_type": "code",
   "execution_count": 82,
   "metadata": {
    "collapsed": false
   },
   "outputs": [],
   "source": [
    "?pd.Series"
   ]
  },
  {
   "cell_type": "code",
   "execution_count": 147,
   "metadata": {
    "collapsed": false
   },
   "outputs": [],
   "source": [
    "data['gender'] = pd.Series(index=data.index, dtype='object')\n",
    "data['degree'] = pd.Series(index=data.index, dtype='object')"
   ]
  },
  {
   "cell_type": "code",
   "execution_count": 148,
   "metadata": {
    "collapsed": false
   },
   "outputs": [],
   "source": [
    "replace(data)"
   ]
  },
  {
   "cell_type": "code",
   "execution_count": 112,
   "metadata": {
    "collapsed": false
   },
   "outputs": [],
   "source": [
    "\n",
    "def replace (data):\n",
    "    for i in data.index:\n",
    "        if 'Female' in data.loc[i, 'series_name']:\n",
    "            data.loc[i, 'gender'] = 'female'\n",
    "        elif 'Male' in data.loc[i, 'series_name']:\n",
    "            data.loc[i, 'gender'] = 'male'\n",
    "        elif 'Total' in data.loc[i, 'series_name']:\n",
    "            data.loc[i, 'gender'] = 'total'\n",
    "            \n",
    "        if 'bachelor' in data.loc[i, 'series_name']:\n",
    "            data.loc[i, 'degree'] = 'bachelor'\n",
    "        elif 'master' in data.loc[i, 'series_name']:\n",
    "            data.loc[i, 'degree'] = 'master'\n",
    "        elif 'doctoral' in data.loc[i, 'series_name']:\n",
    "            data.loc[i, 'degree'] = 'doctoral'\n",
    "    #data['category'] = ['bachelor' if data['series_name'][i].contains('bachelor') else 'master' if data['series_name'][i].contains('master')\n",
    "     #                else 'doctoral' if data['series_name'][i].contains('doctoral') for i in range(len(data))]\n",
    "    "
   ]
  },
  {
   "cell_type": "code",
   "execution_count": 143,
   "metadata": {
    "collapsed": false
   },
   "outputs": [
    {
     "data": {
      "text/plain": [
       "219"
      ]
     },
     "execution_count": 143,
     "metadata": {},
     "output_type": "execute_result"
    }
   ],
   "source": [
    "data['2013'].count()"
   ]
  },
  {
   "cell_type": "code",
   "execution_count": 155,
   "metadata": {
    "collapsed": false
   },
   "outputs": [],
   "source": [
    "data = data.dropna()"
   ]
  },
  {
   "cell_type": "code",
   "execution_count": 154,
   "metadata": {
    "collapsed": false
   },
   "outputs": [
    {
     "data": {
      "text/plain": [
       "array(['Australia', 'Azerbaijan', 'Belgium', 'Bulgaria', 'Colombia',\n",
       "       'Cyprus', 'Czech Republic', 'Dominican Republic', 'Ecuador',\n",
       "       'Estonia', 'Guatemala', 'Hungary', 'Kuwait', 'Latvia', 'Lithuania',\n",
       "       'Luxembourg', 'Malta', 'Mexico', 'Moldova', 'Netherlands', 'Poland',\n",
       "       'Qatar', 'Romania', 'Saudi Arabia', 'Serbia', 'Singapore',\n",
       "       'Slovak Republic', 'St. Lucia', 'Sweden', 'Turkey', 'Uganda',\n",
       "       'United Kingdom', 'United States', 'Uruguay', 'West Bank and Gaza'], dtype=object)"
      ]
     },
     "execution_count": 154,
     "metadata": {},
     "output_type": "execute_result"
    }
   ],
   "source": [
    "data.dropna()['country_name'].unique()"
   ]
  },
  {
   "cell_type": "code",
   "execution_count": 157,
   "metadata": {
    "collapsed": false
   },
   "outputs": [],
   "source": [
    "data = data[data.columns.drop('series_name')]"
   ]
  },
  {
   "cell_type": "code",
   "execution_count": 161,
   "metadata": {
    "collapsed": false
   },
   "outputs": [],
   "source": [
    "data = data.rename(columns = {'2013' : 'attainment', 'country_name' : 'country'})"
   ]
  },
  {
   "cell_type": "code",
   "execution_count": 166,
   "metadata": {
    "collapsed": true
   },
   "outputs": [],
   "source": [
    "data.to_csv('data/attainment.csv', index=False)"
   ]
  },
  {
   "cell_type": "code",
   "execution_count": 165,
   "metadata": {
    "collapsed": false
   },
   "outputs": [],
   "source": [
    "?pd.DataFrame.to_csv()"
   ]
  },
  {
   "cell_type": "code",
   "execution_count": null,
   "metadata": {
    "collapsed": true
   },
   "outputs": [],
   "source": [
    "data = pd.read_csv('', 'python')"
   ]
  }
 ],
 "metadata": {
  "anaconda-cloud": {},
  "kernelspec": {
   "display_name": "Python [conda root]",
   "language": "python",
   "name": "conda-root-py"
  },
  "language_info": {
   "codemirror_mode": {
    "name": "ipython",
    "version": 3
   },
   "file_extension": ".py",
   "mimetype": "text/x-python",
   "name": "python",
   "nbconvert_exporter": "python",
   "pygments_lexer": "ipython3",
   "version": "3.5.2"
  }
 },
 "nbformat": 4,
 "nbformat_minor": 1
}
